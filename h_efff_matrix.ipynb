{
 "cells": [
  {
   "cell_type": "code",
   "execution_count": 1,
   "id": "6793a610-5e25-4540-8726-70637f42803d",
   "metadata": {},
   "outputs": [],
   "source": [
    "using Random\n",
    "using LinearAlgebra\n",
    "using SparseArrays\n",
    "using PyCall\n",
    "using Statistics"
   ]
  },
  {
   "cell_type": "code",
   "execution_count": 2,
   "id": "f4a5a559-fafe-4b32-8fd2-bb7c850d35a9",
   "metadata": {},
   "outputs": [],
   "source": [
    "L = 2;\n",
    "Number_Of_Noise = 4*L^2-6*L+13-3;\n",
    "Random.seed!(2022)\n",
    "NOISE = 2*rand(Float64,Number_Of_Noise).-1;"
   ]
  },
  {
   "cell_type": "code",
   "execution_count": 3,
   "id": "b11cc9f6-dc24-4b4c-93b6-a4fa7041fe63",
   "metadata": {},
   "outputs": [],
   "source": [
    "#Rx(theta) = exp(-1im*(theta*[-1 1;1 -1]/2));\n",
    "#Rx(theta) = [cos(theta/2) -1im*sin(theta/2) ; -1im*sin(theta/2)  cos(theta/2)];\n",
    "Rx(theta) = exp(-1im*theta*[1 1;1 1]/2);"
   ]
  },
  {
   "cell_type": "code",
   "execution_count": 4,
   "id": "4a2a0ecd-4f98-4e1d-b195-b39348ee472a",
   "metadata": {},
   "outputs": [
    {
     "data": {
      "text/plain": [
       "int (generic function with 1 method)"
      ]
     },
     "execution_count": 4,
     "metadata": {},
     "output_type": "execute_result"
    }
   ],
   "source": [
    "int(x) = floor(Int,x)"
   ]
  },
  {
   "cell_type": "code",
   "execution_count": 5,
   "id": "31807210-b469-4d65-b248-b2b26af23fdc",
   "metadata": {},
   "outputs": [],
   "source": [
    "#Rx(theta) = exp(-1im*theta*[1 1;1 1]/2);\n",
    "#Rx(theta) = [cos(theta/2) -1im*sin(theta/2) ; -1im*sin(theta/2)  cos(theta/2)];#\n",
    "\n",
    "#round.(-exp(-1im*pi*([1 1;1 1]/2)); digits = 3)\n",
    "\n",
    "Ry(theta) = [cos(theta/2) -sin(theta/2) ; sin(theta/2) cos(theta/2)];\n",
    "\n",
    "Pauli_X = [0 1;1 0];\n",
    "Pauli_Y = [1 -1im;1im 0];\n",
    "Pauli_Z = [1 0;0 -1];\n",
    "X = [0 1;1 0];\n",
    "I2 = [1 0; 0 1];\n",
    "Z = [1 0;0 -1];\n",
    "H = (1/sqrt(2))*[1 1;1 -1]\n",
    "Hadamard(noise) = exp(-1im*(pi/2+noise)*(I2-H)) #Ry(pi/2+noise)*Pauli_Z;\n",
    "#CX(noise) = exp(-1im*(pi/2+noise)*(X-I2));\n",
    "CX(noise) = exp(-1im*(pi+noise)*[1 1;1 1]/2);"
   ]
  },
  {
   "cell_type": "code",
   "execution_count": null,
   "id": "54f24f79-dbc9-4d93-9022-befcf6664d50",
   "metadata": {},
   "outputs": [],
   "source": []
  },
  {
   "cell_type": "code",
   "execution_count": 6,
   "id": "20729abb-ccd4-437c-ac8c-863e2fdacd5a",
   "metadata": {},
   "outputs": [],
   "source": [
    "\"\"\"\n",
    "\n",
    "Following function takes a 2x2 matrix (Gate) and qubit position (Qubit) and\n",
    "returns the resultant matrix.\n",
    "\n",
    "For example, the matrix for the gate U acting on the 3-rd qubit for N=5\n",
    "qubit system is given by   I (x) I (x) U (x) I (x) I; where (x) is the\n",
    "tensor product.\n",
    "\n",
    "\"\"\"\n",
    "\n",
    "function Matrix_Gate(Gate, Qubit) # Previously known as multi qubit gate.\n",
    "    \n",
    "    ## The case Qubit=1 is treated differently because we need to\n",
    "    # initialize the matrix as U before starting the kronecker product.\n",
    "    \n",
    "    if Qubit == 1\n",
    "        \n",
    "        M = sparse(Gate)\n",
    "        for i=2:L\n",
    "            M = kron(M, sparse([1 0;0 1]))\n",
    "        end\n",
    "        \n",
    "    else\n",
    "        \n",
    "        M = sparse([1 0;0 1])\n",
    "        for i=2:L\n",
    "            if i == Qubit\n",
    "                M = kron(M, Gate)\n",
    "            else\n",
    "                M = kron(M, sparse([1 0;0 1]))\n",
    "            end\n",
    "        end\n",
    "    end\n",
    "    \n",
    "    return M\n",
    "end;"
   ]
  },
  {
   "cell_type": "code",
   "execution_count": 7,
   "id": "931cebd6-2645-40af-acdc-52a458d935e0",
   "metadata": {},
   "outputs": [],
   "source": [
    "Identity(dimension) = 1* Matrix(I, dimension, dimension);"
   ]
  },
  {
   "cell_type": "code",
   "execution_count": 8,
   "id": "d75ca230-a92d-4a70-8914-9ba5cd696276",
   "metadata": {},
   "outputs": [],
   "source": [
    "\"\"\"\n",
    "\n",
    "The following function returns a controlled U gate matrix.\n",
    "\n",
    "Input  : c (integer), t(integer), U (unitary operator).\n",
    "Output : Matrix of the multicontrolled U gate with control qubit c and target qubit t.\n",
    "\n",
    "\"\"\"\n",
    "\n",
    "function CU(U,c,t)\n",
    "    \n",
    "    I2 = sparse([1 0;0 1])\n",
    "    Z = sparse([1 0;0 -1])\n",
    "\n",
    "    PI_0 = (I2+Z)/2\n",
    "    PI_1 = (I2-Z)/2\n",
    "     \n",
    "    #function Rx(Noise)\n",
    "        #A = cos((pi+Noise)/2)\n",
    "        #B = -1im*sin((pi+Noise)/2)\n",
    "        #return 1im*[A B;B A]\n",
    "    #end\n",
    "    \n",
    "    Matrices = Dict(\"I\" => I2,\"PI_0\" => PI_0,\"U\" => U, \"PI_1\" => PI_1)\n",
    "    \n",
    "    p0 = fill(\"I\", L)\n",
    "    p1 = fill(\"I\", L)\n",
    "    \n",
    "    p0[c] = \"PI_0\"\n",
    "    p1[c] = \"PI_1\"\n",
    "    p1[t] = \"U\"\n",
    "\n",
    "    \n",
    "    PI_0_matrix = Matrices[p0[1]]\n",
    "    for i = 2:L\n",
    "        PI_0_matrix = kron(PI_0_matrix,Matrices[p0[i]])\n",
    "    end        \n",
    "        \n",
    "    PI_1_matrix = Matrices[p1[1]]   \n",
    "    for i = 2:L\n",
    "        PI_1_matrix = kron(PI_1_matrix,Matrices[p1[i]])        \n",
    "    end\n",
    "           \n",
    "    #return p0,p1\n",
    "    return PI_0_matrix + PI_1_matrix     \n",
    "end;"
   ]
  },
  {
   "cell_type": "code",
   "execution_count": 9,
   "id": "5bb6263c-d5ba-4f8e-9f45-14cbe4cf2007",
   "metadata": {},
   "outputs": [],
   "source": [
    "\"\"\"\n",
    "\n",
    "The following returns a multicontrolled U gate matrix.\n",
    "\n",
    "Input  : c (list), t(integer), U (unitary operator).\n",
    "Output : Matrix of the multicontrolled U gate with control qubits c and target qubit t.\n",
    "\n",
    "\"\"\"\n",
    "\n",
    "function MCU(c,t,U)\n",
    "    \n",
    "    p0 = fill(\"I\", L)\n",
    "    p1 = fill(\"I\", L)\n",
    "\n",
    "    \n",
    "    if typeof(c) == Int64\n",
    "        p0[c] = \"PI_1\"\n",
    "        p1[t] = \"PI_1\"\n",
    "        \n",
    "    else\n",
    "        for i in c\n",
    "            p0[i] = \"PI_1\"\n",
    "            p1[i] = \"PI_1\"\n",
    "        end\n",
    "    end\n",
    "    \n",
    "    p0[t] = \"I\"\n",
    "    p1[t] = \"U\"\n",
    "\n",
    "    \n",
    "    I = sparse([1 0;0 1])\n",
    "    Z = sparse([1 0;0 -1])\n",
    "    X = sparse([0 1;1 0])\n",
    "    PI_0 = (I+Z)/2\n",
    "    PI_1 = (I-Z)/2\n",
    "     \n",
    "    Matrices = Dict(\"I\" => I,\"PI_0\" => PI_0,\"U\" => U, \"PI_1\" => PI_1)\n",
    "    \n",
    "    PI_0_matrix = Matrices[p0[1]]\n",
    "    for i = 2:L\n",
    "        PI_0_matrix = kron(PI_0_matrix,Matrices[p0[i]])\n",
    "    end        \n",
    "        \n",
    "    PI_1_matrix = Matrices[p1[1]]   \n",
    "    for i = 2:L\n",
    "        PI_1_matrix = kron(PI_1_matrix,Matrices[p1[i]])        \n",
    "    end\n",
    "             \n",
    "    # The identity in the following line needs to be replaced.\n",
    "    return Identity(2^L) - PI_0_matrix + PI_1_matrix     \n",
    "end;"
   ]
  },
  {
   "cell_type": "code",
   "execution_count": 10,
   "id": "b8f508ec-30ec-49bd-9739-8ad60624a73e",
   "metadata": {},
   "outputs": [],
   "source": [
    "using PyCall\n",
    "py\"\"\"\n",
    "import numpy\n",
    "import numpy.linalg\n",
    "def adjoint(psi):\n",
    "    return psi.conjugate().transpose()\n",
    "def psi_to_rho(psi):\n",
    "    return numpy.outer(psi,psi.conjugate())\n",
    "def exp_val(psi, op):\n",
    "    return numpy.real(numpy.dot(adjoint(psi),op.dot(psi)))\n",
    "def norm_sq(psi):\n",
    "    return numpy.real(numpy.dot(adjoint(psi),psi))\n",
    "def normalize(psi,tol=1e-9):\n",
    "    ns=norm_sq(psi)**0.5\n",
    "    if ns < tol:\n",
    "        raise ValueError\n",
    "    return psi/ns\n",
    "def is_herm(M,tol=1e-9):\n",
    "    if M.shape[0]!=M.shape[1]:\n",
    "        return False\n",
    "    diff=M-adjoint(M)\n",
    "    return max(numpy.abs(diff.flatten())) < tol\n",
    "def is_unitary(M,tol=1e-9):\n",
    "    if M.shape[0]!=M.shape[1]:\n",
    "        return False\n",
    "    diff=M.dot(adjoint(M))-numpy.identity((M.shape[0]))\n",
    "    return max(numpy.abs(diff.flatten())) < tol\n",
    "def eigu(U,tol=1e-9):\n",
    "    (E_1,V_1)=numpy.linalg.eigh(U+adjoint(U))\n",
    "    U_1=adjoint(V_1).dot(U).dot(V_1)\n",
    "    H_1=adjoint(V_1).dot(U+adjoint(U)).dot(V_1)\n",
    "    non_diag_lst=[]\n",
    "    j=0\n",
    "    while j < U_1.shape[0]:\n",
    "        k=0\n",
    "        while k < U_1.shape[0]:\n",
    "            if j!=k and abs(U_1[j,k]) > tol:\n",
    "                if j not in non_diag_lst:\n",
    "                    non_diag_lst.append(j)\n",
    "                if k not in non_diag_lst:\n",
    "                    non_diag_lst.append(k)\n",
    "            k+=1\n",
    "        j+=1\n",
    "    if len(non_diag_lst) > 0:\n",
    "        non_diag_lst=numpy.sort(numpy.array(non_diag_lst))\n",
    "        U_1_cut=U_1[non_diag_lst,:][:,non_diag_lst]\n",
    "        (E_2_cut,V_2_cut)=numpy.linalg.eigh(1.j*(U_1_cut-adjoint(U_1_cut)))\n",
    "        V_2=numpy.identity((U.shape[0]),dtype=V_2_cut.dtype)\n",
    "        for j in range(len(non_diag_lst)):\n",
    "            V_2[non_diag_lst[j],non_diag_lst]=V_2_cut[j,:]\n",
    "        V_1=V_1.dot(V_2)\n",
    "        U_1=adjoint(V_2).dot(U_1).dot(V_2)\n",
    "    # Sort by phase\n",
    "    U_1=numpy.diag(U_1)\n",
    "    inds=numpy.argsort(numpy.imag(numpy.log(U_1)))\n",
    "    return (U_1[inds],V_1[:,inds]) # = (U_d,V) s.t. U=V*U_d*V^\\dagger\n",
    "\"\"\""
   ]
  },
  {
   "cell_type": "markdown",
   "id": "64b380dc-5c5a-4ae2-a5f8-24aa9059cc4a",
   "metadata": {},
   "source": [
    "### Exact Grover operator"
   ]
  },
  {
   "cell_type": "code",
   "execution_count": 11,
   "id": "dd0d67ab-b587-44ce-85b2-f903e71dd107",
   "metadata": {},
   "outputs": [
    {
     "data": {
      "text/plain": [
       "4×4 Matrix{Float64}:\n",
       "  0.5   0.5   0.5   0.5\n",
       " -0.5  -0.5   0.5   0.5\n",
       " -0.5   0.5  -0.5   0.5\n",
       " -0.5   0.5   0.5  -0.5"
      ]
     },
     "execution_count": 11,
     "metadata": {},
     "output_type": "execute_result"
    }
   ],
   "source": [
    "U_0 = [-1 0 0 0; 0 1 0 0; 0 0 1 0;0 0 0 1];\n",
    "A = ones(2^L,2^L);\n",
    "U_x = (2/2^L)*A-Identity(2^L);\n",
    "G_exact = U_x*U_0\n",
    "#U_x"
   ]
  },
  {
   "cell_type": "markdown",
   "id": "7e336ef9-bd4b-4a15-ac39-416bff6eb3c2",
   "metadata": {},
   "source": [
    "### Decomposed Grover operator"
   ]
  },
  {
   "cell_type": "code",
   "execution_count": 12,
   "id": "f63f0fe9-08d4-40a9-8054-9d1cf45691d6",
   "metadata": {},
   "outputs": [
    {
     "data": {
      "text/plain": [
       "4×4 SparseMatrixCSC{Float64, Int64} with 16 stored entries:\n",
       "  0.5   0.5   0.5   0.5\n",
       " -0.5  -0.5   0.5   0.5\n",
       " -0.5   0.5  -0.5   0.5\n",
       " -0.5   0.5   0.5  -0.5"
      ]
     },
     "execution_count": 12,
     "metadata": {},
     "output_type": "execute_result"
    }
   ],
   "source": [
    "U0 = Matrix_Gate(CX(0.0),1)*Matrix_Gate(H,2)*CU(CX(0.0),1,2)*Matrix_Gate(CX(0.0),1)*Matrix_Gate(H,2);\n",
    "Ux = Matrix_Gate(H,1)*Matrix_Gate(CX(0.0),1)*CU(CX(0.0),1,2)*Matrix_Gate(CX(0.0),1)*Matrix_Gate(H,1);\n",
    "G_decomposed = real(round.(-Ux*U0,digits=2))\n",
    "#real(round.(-Ux,digits=2))"
   ]
  },
  {
   "cell_type": "markdown",
   "id": "1c1960b2-c8fa-44a1-9a1d-4ed2decf4f8e",
   "metadata": {},
   "source": [
    "### Construction of H_eff"
   ]
  },
  {
   "cell_type": "code",
   "execution_count": 13,
   "id": "ffe2cff3-ce39-4fab-bb9d-fca4a1a5b9c8",
   "metadata": {},
   "outputs": [],
   "source": [
    "    function kth_term(k)\n",
    "        \n",
    "        f_k = Identity(2^L);\n",
    "        for i = k:length(List_of_U)-1\n",
    "            f_k = f_k * collect(List_of_U[length(List_of_U)-i+k])\n",
    "        end \n",
    "        \n",
    "        #= Corresponding H for the kth term. =#\n",
    "        U_k = List_of_H[k]\n",
    "        if U_k[1] == \"H\"\n",
    "            Noise = U_k[2] # delta*epsilon.\n",
    "            Qubit = U_k[3] # qubit.\n",
    "            H_k = Matrix_Gate(I2-H,Qubit) #= H_had = I2-Had. =#\n",
    "        elseif U_k[1] == \"X\"\n",
    "            Noise = U_k[2] # delta*epsilon.\n",
    "            Qubit = U_k[3] # qubit.\n",
    "            H_k = Matrix_Gate(X-I2,Qubit) #= H_X = X-I2. =#\n",
    " \n",
    "        else\n",
    "            Noise = U_k[1]\n",
    "            Control_Qubit = int(U_k[2])\n",
    "            Target_Qubit = int(U_k[3])\n",
    "            #= H = ((I-Z)/2)_c \\otimes ((I+X)/2)_t.=#\n",
    "            Matrices = Dict(\"I\" => I2,\"U\" => (I2+X)/2, \"PI_1\" => (I2-Z)/2)\n",
    "            p1 = fill(\"I\", L)\n",
    "            p1[Control_Qubit] = \"PI_1\"\n",
    "            p1[Target_Qubit] = \"U\"\n",
    "            H_k = Matrices[p1[1]]\n",
    "            for i = 2:L\n",
    "                H_k = kron(H_k,Matrices[p1[i]])\n",
    "            end                                 \n",
    "        end\n",
    "        return f_k * H_k * (f_k')\n",
    "end;"
   ]
  },
  {
   "cell_type": "code",
   "execution_count": 14,
   "id": "e07638d8-2d95-4413-b5fb-f103a27ffd93",
   "metadata": {},
   "outputs": [
    {
     "ename": "LoadError",
     "evalue": "UndefVarError: List_of_U not defined",
     "output_type": "error",
     "traceback": [
      "UndefVarError: List_of_U not defined",
      "",
      "Stacktrace:",
      " [1] kth_term(k::Int64)",
      "   @ Main ./In[13]:4",
      " [2] top-level scope",
      "   @ In[14]:1",
      " [3] eval",
      "   @ ./boot.jl:368 [inlined]",
      " [4] include_string(mapexpr::typeof(REPL.softscope), mod::Module, code::String, filename::String)",
      "   @ Base ./loading.jl:1428"
     ]
    }
   ],
   "source": [
    "kth_term(10)"
   ]
  },
  {
   "cell_type": "code",
   "execution_count": 15,
   "id": "54f2bc3c-7735-4a68-be2e-c4088fa25e6b",
   "metadata": {},
   "outputs": [],
   "source": [
    "py\"\"\"\n",
    "f = open('eigenvalues_manual_data'+'.txt', 'w')\n",
    "def Write_file2(delta, effective, exact):\n",
    "    f = open('eigenvalues_manual_data'+'.txt', 'a')\n",
    "    f.write(str(delta) + '\\t' + str(effective)+ '\\t' + str(exact) +'\\n')\n",
    "\"\"\""
   ]
  },
  {
   "cell_type": "code",
   "execution_count": 16,
   "id": "de2e5a93-9466-4c3e-b441-7ae0fadb7885",
   "metadata": {},
   "outputs": [
    {
     "ename": "LoadError",
     "evalue": "UndefVarError: MyEigenvalues not defined",
     "output_type": "error",
     "traceback": [
      "UndefVarError: MyEigenvalues not defined",
      "",
      "Stacktrace:",
      " [1] top-level scope",
      "   @ ./In[16]:4",
      " [2] eval",
      "   @ ./boot.jl:368 [inlined]",
      " [3] include_string(mapexpr::typeof(REPL.softscope), mod::Module, code::String, filename::String)",
      "   @ Base ./loading.jl:1428"
     ]
    }
   ],
   "source": [
    "Num = 80;\n",
    "for i = 1:Num\n",
    "    delta = 0.3*(i/Num)\n",
    "    EE = MyEigenvalues(delta);\n",
    "    effective = EE[1]\n",
    "    exact = EE[2]\n",
    "    for j = 1:2^L-2\n",
    "        py\"Write_file2\"(delta,effective[j],exact[j])\n",
    "    end\n",
    "end"
   ]
  }
 ],
 "metadata": {
  "kernelspec": {
   "display_name": "Julia 1.8.1",
   "language": "julia",
   "name": "julia-1.8"
  },
  "language_info": {
   "file_extension": ".jl",
   "mimetype": "application/julia",
   "name": "julia",
   "version": "1.8.1"
  }
 },
 "nbformat": 4,
 "nbformat_minor": 5
}
