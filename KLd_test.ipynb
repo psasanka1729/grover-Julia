{
 "cells": [
  {
   "cell_type": "markdown",
   "id": "b873e9bb-1979-49c3-9e04-7807101c2932",
   "metadata": {},
   "source": [
    "### KLd test\n",
    "Testing the KLd function to see if it gives values more than two for two random arrays."
   ]
  },
  {
   "cell_type": "code",
   "execution_count": 16,
   "id": "17f3a289-69bb-4505-ac1e-734528eed315",
   "metadata": {},
   "outputs": [],
   "source": [
    "using Random"
   ]
  },
  {
   "cell_type": "code",
   "execution_count": 17,
   "id": "50c1b7a8-f393-4497-a21b-0b5f776da66c",
   "metadata": {},
   "outputs": [],
   "source": [
    "x0 = Random.rand(32);\n",
    "x1 = Random.rand(32);"
   ]
  },
  {
   "cell_type": "code",
   "execution_count": 18,
   "id": "550a078c-1398-4ca4-bf56-e353eaf741d0",
   "metadata": {},
   "outputs": [
    {
     "name": "stdout",
     "output_type": "stream",
     "text": [
      "17.89783099360855\n"
     ]
    }
   ],
   "source": [
    "KLd_sum = 0.0\n",
    "for i = 1:32\n",
    "        p = abs((x0)[i])^2\n",
    "        q = abs((x1)[i])^2\n",
    "        if p*q == 0\n",
    "            # To avoid singularities in log.\n",
    "            continue \n",
    "        else    \n",
    "            KLd_sum += p*log(p/q)\n",
    "        end\n",
    "end\n",
    "println(KLd_sum)"
   ]
  },
  {
   "cell_type": "code",
   "execution_count": null,
   "id": "1dc77bd7-fcd3-4c9d-96a2-3ce94ac60928",
   "metadata": {},
   "outputs": [],
   "source": []
  }
 ],
 "metadata": {
  "kernelspec": {
   "display_name": "Julia 1.8.1",
   "language": "julia",
   "name": "julia-1.8"
  },
  "language_info": {
   "file_extension": ".jl",
   "mimetype": "application/julia",
   "name": "julia",
   "version": "1.8.1"
  }
 },
 "nbformat": 4,
 "nbformat_minor": 5
}
